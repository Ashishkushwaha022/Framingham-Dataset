{
 "cells": [
  {
   "cell_type": "markdown",
   "metadata": {
    "_cell_guid": "a55f85f4-3e45-4a64-8fd4-d6c4c23c4c77",
    "_uuid": "b34438b648d12caafb20d1ff0b8242ee6093f55e"
   },
   "source": [
    "<div class=\"alert alert-info\">\n",
    "<h1><center><font color=darkblue> HEART DISEASE PREDICTION USING LOGISTIC REGRESSION.<font></center></h1>\n",
    "\n",
    "\n",
    "</div>"
   ]
  },
  {
   "cell_type": "markdown",
   "metadata": {
    "_cell_guid": "d8d1ffac-5027-420e-bbfb-cb4aef123890",
    "_uuid": "75521b34607283fa0c48a4aaf4ec9616fcd6c47f"
   },
   "source": [
    "## <font color=RoyalBlue>Introduction<font>\n",
    "\n",
    "World Health Organization has  estimated 12 million deaths occur worldwide, every year due to Heart diseases. Half the deaths in the United States and other developed countries are due to cardio vascular diseases. The early prognosis of cardiovascular diseases can aid in making decisions on lifestyle changes in high risk patients and in turn reduce the complications. This research intends to pinpoint the most relevant/risk factors of heart disease as well as predict the overall risk using logistic regression.\n"
   ]
  },
  {
   "cell_type": "code",
   "execution_count": 1,
   "metadata": {
    "_cell_guid": "0505f675-ca00-47b6-b43c-b83cd68a8185",
    "_uuid": "a920b2bbb8694dd8e3d715fd9a333c47c5923c49"
   },
   "outputs": [],
   "source": [
    "import pandas as pd\n",
    "import numpy as np\n",
    "import statsmodels.api as sm\n",
    "import scipy.stats as st\n",
    "import matplotlib.pyplot as plt\n",
    "import seaborn as sn\n",
    "from sklearn.metrics import confusion_matrix\n",
    "import matplotlib.mlab as mlab\n",
    "%matplotlib inline"
   ]
  },
  {
   "cell_type": "markdown",
   "metadata": {
    "_cell_guid": "7e94f5d9-568d-4d04-8920-7b8b3d0bcb96",
    "_uuid": "04563e20d085b8b5c7ee9ec44bc8e3135489cbdd"
   },
   "source": [
    "## <font color=RoyalBlue>Data Preparation<font>\n",
    "\n",
    "### <font color=CornflowerBlue>Source:<font>\n",
    "\n",
    "The dataset is publically available on the Kaggle website, and it is from an ongoing ongoing cardiovascular study on residents of the town of Framingham, Massachusetts.  The classification goal is to predict whether the patient has 10-year risk of future coronary heart disease (CHD).The dataset provides the patients’ information. It includes over 4,000 records and 15 attributes."
   ]
  },
  {
   "cell_type": "code",
   "execution_count": 4,
   "metadata": {
    "_cell_guid": "07bf11e6-a421-4acb-80b3-1653f17a7e9f",
    "_uuid": "7a4365d730d7981e928ad039481185a7a7f6a953"
   },
   "outputs": [
    {
     "data": {
      "text/html": [
       "<div>\n",
       "<style scoped>\n",
       "    .dataframe tbody tr th:only-of-type {\n",
       "        vertical-align: middle;\n",
       "    }\n",
       "\n",
       "    .dataframe tbody tr th {\n",
       "        vertical-align: top;\n",
       "    }\n",
       "\n",
       "    .dataframe thead th {\n",
       "        text-align: right;\n",
       "    }\n",
       "</style>\n",
       "<table border=\"1\" class=\"dataframe\">\n",
       "  <thead>\n",
       "    <tr style=\"text-align: right;\">\n",
       "      <th></th>\n",
       "      <th>male</th>\n",
       "      <th>age</th>\n",
       "      <th>currentSmoker</th>\n",
       "      <th>cigsPerDay</th>\n",
       "      <th>BPMeds</th>\n",
       "      <th>prevalentStroke</th>\n",
       "      <th>prevalentHyp</th>\n",
       "      <th>diabetes</th>\n",
       "      <th>totChol</th>\n",
       "      <th>sysBP</th>\n",
       "      <th>diaBP</th>\n",
       "      <th>BMI</th>\n",
       "      <th>heartRate</th>\n",
       "      <th>glucose</th>\n",
       "      <th>TenYearCHD</th>\n",
       "    </tr>\n",
       "  </thead>\n",
       "  <tbody>\n",
       "    <tr>\n",
       "      <th>0</th>\n",
       "      <td>1</td>\n",
       "      <td>39</td>\n",
       "      <td>0</td>\n",
       "      <td>0.0</td>\n",
       "      <td>0.0</td>\n",
       "      <td>0</td>\n",
       "      <td>0</td>\n",
       "      <td>0</td>\n",
       "      <td>195.0</td>\n",
       "      <td>106.0</td>\n",
       "      <td>70.0</td>\n",
       "      <td>26.97</td>\n",
       "      <td>80.0</td>\n",
       "      <td>77.0</td>\n",
       "      <td>0</td>\n",
       "    </tr>\n",
       "    <tr>\n",
       "      <th>1</th>\n",
       "      <td>0</td>\n",
       "      <td>46</td>\n",
       "      <td>0</td>\n",
       "      <td>0.0</td>\n",
       "      <td>0.0</td>\n",
       "      <td>0</td>\n",
       "      <td>0</td>\n",
       "      <td>0</td>\n",
       "      <td>250.0</td>\n",
       "      <td>121.0</td>\n",
       "      <td>81.0</td>\n",
       "      <td>28.73</td>\n",
       "      <td>95.0</td>\n",
       "      <td>76.0</td>\n",
       "      <td>0</td>\n",
       "    </tr>\n",
       "    <tr>\n",
       "      <th>2</th>\n",
       "      <td>1</td>\n",
       "      <td>48</td>\n",
       "      <td>1</td>\n",
       "      <td>20.0</td>\n",
       "      <td>0.0</td>\n",
       "      <td>0</td>\n",
       "      <td>0</td>\n",
       "      <td>0</td>\n",
       "      <td>245.0</td>\n",
       "      <td>127.5</td>\n",
       "      <td>80.0</td>\n",
       "      <td>25.34</td>\n",
       "      <td>75.0</td>\n",
       "      <td>70.0</td>\n",
       "      <td>0</td>\n",
       "    </tr>\n",
       "    <tr>\n",
       "      <th>3</th>\n",
       "      <td>0</td>\n",
       "      <td>61</td>\n",
       "      <td>1</td>\n",
       "      <td>30.0</td>\n",
       "      <td>0.0</td>\n",
       "      <td>0</td>\n",
       "      <td>1</td>\n",
       "      <td>0</td>\n",
       "      <td>225.0</td>\n",
       "      <td>150.0</td>\n",
       "      <td>95.0</td>\n",
       "      <td>28.58</td>\n",
       "      <td>65.0</td>\n",
       "      <td>103.0</td>\n",
       "      <td>1</td>\n",
       "    </tr>\n",
       "    <tr>\n",
       "      <th>4</th>\n",
       "      <td>0</td>\n",
       "      <td>46</td>\n",
       "      <td>1</td>\n",
       "      <td>23.0</td>\n",
       "      <td>0.0</td>\n",
       "      <td>0</td>\n",
       "      <td>0</td>\n",
       "      <td>0</td>\n",
       "      <td>285.0</td>\n",
       "      <td>130.0</td>\n",
       "      <td>84.0</td>\n",
       "      <td>23.10</td>\n",
       "      <td>85.0</td>\n",
       "      <td>85.0</td>\n",
       "      <td>0</td>\n",
       "    </tr>\n",
       "  </tbody>\n",
       "</table>\n",
       "</div>"
      ],
      "text/plain": [
       "   male  age  currentSmoker  cigsPerDay  BPMeds  prevalentStroke  \\\n",
       "0     1   39              0         0.0     0.0                0   \n",
       "1     0   46              0         0.0     0.0                0   \n",
       "2     1   48              1        20.0     0.0                0   \n",
       "3     0   61              1        30.0     0.0                0   \n",
       "4     0   46              1        23.0     0.0                0   \n",
       "\n",
       "   prevalentHyp  diabetes  totChol  sysBP  diaBP    BMI  heartRate  glucose  \\\n",
       "0             0         0    195.0  106.0   70.0  26.97       80.0     77.0   \n",
       "1             0         0    250.0  121.0   81.0  28.73       95.0     76.0   \n",
       "2             0         0    245.0  127.5   80.0  25.34       75.0     70.0   \n",
       "3             1         0    225.0  150.0   95.0  28.58       65.0    103.0   \n",
       "4             0         0    285.0  130.0   84.0  23.10       85.0     85.0   \n",
       "\n",
       "   TenYearCHD  \n",
       "0           0  \n",
       "1           0  \n",
       "2           0  \n",
       "3           1  \n",
       "4           0  "
      ]
     },
     "execution_count": 4,
     "metadata": {},
     "output_type": "execute_result"
    }
   ],
   "source": [
    "heart_df=pd.read_csv(r\"F:\\Data Science\\Machine Learning\\framingham dataset\\framingham.csv\")\n",
    "heart_df.drop(['education'],axis=1,inplace=True)\n",
    "heart_df.head()"
   ]
  },
  {
   "cell_type": "markdown",
   "metadata": {
    "_cell_guid": "76329cfe-8273-432f-9cd0-f25fd24e561a",
    "_uuid": "c2293e6a93a0c89d0ab0faaaa5f37b55fcaa0f17"
   },
   "source": [
    "### <font color=CornflowerBlue>Variables :<font>"
   ]
  },
  {
   "cell_type": "markdown",
   "metadata": {
    "_cell_guid": "190ccf73-7d24-44d9-98b5-3198fbd13510",
    "_uuid": "920a27387872578520ad578aa8c3b1cf510a9452"
   },
   "source": [
    "Each attribute is a potential risk factor. There are both demographic, behavioural and medical risk factors.\n",
    "\n",
    " - **<font color=SteelBlue>Demographic:<font>**\n",
    "sex: male or female;(Nominal)\n",
    "\n",
    "    -  age: age of the patient;(Continuous - Although the recorded ages have been truncated to whole numbers, the concept of age is continuous)\n",
    "\n",
    "\n",
    " - **<font color=SteelBlue>Behavioural<font>**\n",
    "\n",
    "    -  currentSmoker: whether or not the patient is a current smoker (Nominal)\n",
    "\n",
    "    -  cigsPerDay: the number of cigarettes that the person smoked on average in one day.(can be considered continuous as one can have any number of cigarretts, even half a cigarette.)\n",
    "\n",
    " - **<font color=SteelBlue>Medical( history):<font>**\n",
    "\n",
    "    -  BPMeds: whether or not the patient was on blood pressure medication (Nominal)\n",
    "\n",
    "    -  prevalentStroke: whether or not the patient had previously had a stroke (Nominal)\n",
    "\n",
    "    -  prevalentHyp: whether or not the patient was hypertensive (Nominal)\n",
    "\n",
    "    -  diabetes: whether or not the patient had diabetes (Nominal)\n",
    "\n",
    " - **<font color=SteelBlue>Medical(current):<font>** \n",
    "\n",
    "    -  totChol: total cholesterol level (Continuous)\n",
    "\n",
    "    -  sysBP: systolic blood pressure (Continuous)\n",
    "\n",
    "    -  diaBP: diastolic blood pressure (Continuous)\n",
    "\n",
    "    -  BMI: Body Mass Index (Continuous)\n",
    "\n",
    "    -  heartRate: heart rate (Continuous - In medical research, variables such as heart rate though in fact discrete, yet are considered continuous because of large number of possible values.)\n",
    "\n",
    "    -  glucose: glucose level (Continuous)\n",
    "\n",
    "\n",
    " - **<font color=SteelBlue>Predict variable (desired target):<font>**\n",
    "\n",
    "    -  10 year risk of coronary heart disease CHD (binary: “1”, means “Yes”, “0” means “No”)\n"
   ]
  },
  {
   "cell_type": "code",
   "execution_count": null,
   "metadata": {
    "_cell_guid": "dd2265c1-70ee-4bbc-82dd-68871fdaa042",
    "_uuid": "d894b86d4cfc1c8e0c4403ed9c844b31ac13446a"
   },
   "outputs": [],
   "source": [
    "heart_df.rename(columns={'male':'Sex_male'},inplace=True)"
   ]
  },
  {
   "cell_type": "markdown",
   "metadata": {
    "_cell_guid": "a4ba245a-9280-46ac-8f97-aca5d1fdedb6",
    "_uuid": "9d599adc546d312c08958a050fbdfbb814e3cf0d"
   },
   "source": [
    "### <font color=CornflowerBlue>Missing values<font>"
   ]
  },
  {
   "cell_type": "code",
   "execution_count": null,
   "metadata": {
    "_cell_guid": "6c32b561-0667-4c3d-b8b2-bb7aefc29a38",
    "_uuid": "d34f24db4b4eb3d49a3dfdaecfea442682822d37"
   },
   "outputs": [],
   "source": [
    "heart_df.isnull().sum()"
   ]
  },
  {
   "cell_type": "code",
   "execution_count": null,
   "metadata": {
    "_cell_guid": "2e1c244f-856d-482c-b4ff-ae4ec60df36b",
    "_uuid": "05fe0f931aa94963eb044e8b4ab8f3984c536670"
   },
   "outputs": [],
   "source": [
    "count=0\n",
    "for i in heart_df.isnull().sum(axis=1):\n",
    "    if i>0:\n",
    "        count=count+1\n",
    "print('Total number of rows with missing values is ', count)\n",
    "print('since it is only',round((count/len(heart_df.index))*100), 'percent of the entire dataset the rows with missing values are excluded.')"
   ]
  },
  {
   "cell_type": "code",
   "execution_count": null,
   "metadata": {
    "_cell_guid": "dfb2215d-ade3-4370-9e51-ac53a78e1ab4",
    "_uuid": "6995b6b17ee8452633cd9cb256071fb57ec5a9a7"
   },
   "outputs": [],
   "source": [
    "heart_df.dropna(axis=0,inplace=True)"
   ]
  },
  {
   "cell_type": "markdown",
   "metadata": {
    "_cell_guid": "2d0e05b9-08fe-43df-85c8-072218145b6e",
    "_uuid": "8f59e41e841e8970a2ea90765aa273de834049b8"
   },
   "source": [
    "## <font color=RoyalBlue>Exploratory Analysis<font>"
   ]
  },
  {
   "cell_type": "code",
   "execution_count": null,
   "metadata": {
    "_cell_guid": "c4422c44-97d7-44d9-a4ae-793e6e2da4c4",
    "_uuid": "354f82983a107141a40f8952a451123bb30e4a7a"
   },
   "outputs": [],
   "source": [
    "def draw_histograms(dataframe, features, rows, cols):\n",
    "    fig=plt.figure(figsize=(20,20))\n",
    "    for i, feature in enumerate(features):\n",
    "        ax=fig.add_subplot(rows,cols,i+1)\n",
    "        dataframe[feature].hist(bins=20,ax=ax,facecolor='midnightblue')\n",
    "        ax.set_title(feature+\" Distribution\",color='DarkRed')\n",
    "        \n",
    "    fig.tight_layout()  \n",
    "    plt.show()\n",
    "draw_histograms(heart_df,heart_df.columns,6,3)"
   ]
  },
  {
   "cell_type": "code",
   "execution_count": null,
   "metadata": {
    "_cell_guid": "721db095-34fd-46b0-a269-9b1ed00df438",
    "_uuid": "aeba17b21c54351fc541d4ab3cc85e18ba8a6d20"
   },
   "outputs": [],
   "source": [
    "heart_df.TenYearCHD.value_counts()"
   ]
  },
  {
   "cell_type": "code",
   "execution_count": null,
   "metadata": {
    "_cell_guid": "01fcff0d-31f9-4831-89de-ead65ad41158",
    "_uuid": "03a569f5ff9a039256f6584654222a5edbf457fe"
   },
   "outputs": [],
   "source": [
    "sn.countplot(x='TenYearCHD',data=heart_df)"
   ]
  },
  {
   "cell_type": "markdown",
   "metadata": {
    "_cell_guid": "955ded98-f1bd-4756-badb-70ada8067f2f",
    "_uuid": "bbc3663c10718e4b1e85d6be97c4c2bf2fa098fd"
   },
   "source": [
    "There are 3179 patents with no heart disease and 572 patients with risk of heart disease."
   ]
  },
  {
   "cell_type": "code",
   "execution_count": null,
   "metadata": {
    "_cell_guid": "f583cb2c-f6c8-4471-99a2-448dfe60f32d",
    "_uuid": "b47c3dec9391241c41b287dcebf2367a071d83d9"
   },
   "outputs": [],
   "source": [
    "sn.pairplot(data=heart_df)"
   ]
  },
  {
   "cell_type": "code",
   "execution_count": null,
   "metadata": {
    "_cell_guid": "1706a968-b8e0-4393-b9bd-72a8761ee3c0",
    "_uuid": "f3913969f492436b291f154646e0584be9c64ec4"
   },
   "outputs": [],
   "source": [
    "heart_df.describe()"
   ]
  },
  {
   "cell_type": "markdown",
   "metadata": {
    "_cell_guid": "d791f658-cfbb-496b-93d1-b2d0ef639b7e",
    "_uuid": "a14fae661d7902e8c58a9b57b6f6873b6aeb0a79"
   },
   "source": [
    "## <font color=RoyalBlue>Logistic Regression<font>"
   ]
  },
  {
   "cell_type": "markdown",
   "metadata": {
    "_cell_guid": "17d7af59-bd19-4448-b26c-f2c52b6c5381",
    "_uuid": "2244062f695fd7f76c0b86af5b49d6a597679c4d"
   },
   "source": [
    "Logistic regression is a type of regression analysis in statistics used for prediction of outcome of a categorical dependent variable from a set of predictor or independent variables. In logistic regression the dependent variable is always binary. Logistic regression is mainly used to for prediction and also calculating the probability of success. "
   ]
  },
  {
   "cell_type": "code",
   "execution_count": null,
   "metadata": {
    "_cell_guid": "b9c9dfb3-bf55-4057-bde5-afaad3269d67",
    "_uuid": "a5b27fe7c493d5ea80f0e50d20c88107ad18ae9d"
   },
   "outputs": [],
   "source": [
    "from statsmodels.tools import add_constant as add_constant\n",
    "heart_df_constant = add_constant(heart_df)\n",
    "heart_df_constant.head()"
   ]
  },
  {
   "cell_type": "code",
   "execution_count": null,
   "metadata": {
    "_cell_guid": "3fdb6189-8685-4dbc-8f9c-e63cf212d900",
    "_uuid": "e0a078c46810c69b79dd1beeb2e6e9f23f1139ec"
   },
   "outputs": [],
   "source": [
    "st.chisqprob = lambda chisq, df: st.chi2.sf(chisq, df)\n",
    "cols=heart_df_constant.columns[:-1]\n",
    "model=sm.Logit(heart_df.TenYearCHD,heart_df_constant[cols])\n",
    "result=model.fit()\n",
    "result.summary()\n"
   ]
  },
  {
   "cell_type": "markdown",
   "metadata": {
    "_cell_guid": "d4425d91-cec3-40c5-b07a-e39dee05005c",
    "_uuid": "b41b37cdfdf3a466b987e387c465cb562d6db81e"
   },
   "source": [
    "The results above show some of the attributes with P value higher than the preferred alpha(5%) and thereby showing  low statistically significant relationship with the probability of heart disease. Backward elemination approach is used here to remove those attributes with highest Pvalue one at a time follwed by  running the regression repeatedly until all attributes have P Values less than 0.05.\n",
    "\n"
   ]
  },
  {
   "cell_type": "markdown",
   "metadata": {
    "_cell_guid": "c6a91761-6823-4b6b-b7a3-a30e3b4f6364",
    "_uuid": "81d75a1cc79149b7df0926cb94d0466f0d4faae9"
   },
   "source": [
    "### <font color=CornflowerBlue>Feature Selection: Backward elemination (P-value approach)<font>"
   ]
  },
  {
   "cell_type": "code",
   "execution_count": null,
   "metadata": {
    "_cell_guid": "98db8e78-17ee-4d0d-9aba-4ddb80d448af",
    "_uuid": "ceb20562b00dfb3995c19f910a27c514f37d8429"
   },
   "outputs": [],
   "source": [
    "def back_feature_elem (data_frame,dep_var,col_list):\n",
    "    \"\"\" Takes in the dataframe, the dependent variable and a list of column names, runs the regression repeatedly eleminating feature with the highest\n",
    "    P-value above alpha one at a time and returns the regression summary with all p-values below alpha\"\"\"\n",
    "\n",
    "    while len(col_list)>0 :\n",
    "        model=sm.Logit(dep_var,data_frame[col_list])\n",
    "        result=model.fit(disp=0)\n",
    "        largest_pvalue=round(result.pvalues,3).nlargest(1)\n",
    "        if largest_pvalue[0]<(0.05):\n",
    "            return result\n",
    "            break\n",
    "        else:\n",
    "            col_list=col_list.drop(largest_pvalue.index)\n",
    "\n",
    "result=back_feature_elem(heart_df_constant,heart_df.TenYearCHD,cols)"
   ]
  },
  {
   "cell_type": "code",
   "execution_count": null,
   "metadata": {
    "_cell_guid": "13826151-bccb-426b-82f7-5b2fd9c5a14c",
    "_uuid": "bd1968450d28274b9d375f2ef3531d05a2a2b09f"
   },
   "outputs": [],
   "source": [
    "result.summary()"
   ]
  },
  {
   "cell_type": "markdown",
   "metadata": {
    "_cell_guid": "f690f79e-e029-421f-943a-6ab8cf9bebd8",
    "_uuid": "6a235b6080e298f2d4f7a5af6c28ca8043f0b3d9"
   },
   "source": [
    "#### <font color=darkblue>Logistic regression equation<font>\n",
    "\n",
    "$$P=\\hspace{.2cm}e^{\\beta_0 + \\beta_1 X_1}\\hspace{.2cm}/\\hspace{.2cm}1+e^{\\beta_0 +\\beta_1 X_1}$$\n",
    "\n",
    "When all features plugged in:\n",
    "\n",
    "$$logit(p) = log(p/(1-p))=\\beta_0 +\\beta_1\\hspace{.1cm} *\\hspace{.2cm} Sexmale\\hspace{.2cm}+\\beta_2\\hspace{.1cm} * \\hspace{.1cm}age\\hspace{.2cm}+\\hspace{.2cm}\\beta_3\\hspace{.1cm} *\\hspace{.1cm} cigsPerDay\\hspace{.2cm}+\\hspace{.2cm}\\beta_4 \\hspace{.1cm}*\\hspace{.1cm} totChol\\hspace{.2cm}+\\hspace{.2cm}\\beta_5\\hspace{.1cm} *\\hspace{.1cm} sysBP\\hspace{.2cm}+\\hspace{.2cm}\\beta_6\\hspace{.1cm} *\\hspace{.1cm} glucose\\hspace{.2cm}$$\n",
    "\n"
   ]
  },
  {
   "cell_type": "markdown",
   "metadata": {
    "_cell_guid": "93488235-bb11-4df5-bda9-5b7bff0a4b91",
    "_uuid": "49ee0fe6b9007168943c813f2313b6005eb20bc2"
   },
   "source": [
    "## <font color=RoyalBlue>Interpreting the results: Odds Ratio, Confidence Intervals and Pvalues<font>"
   ]
  },
  {
   "cell_type": "code",
   "execution_count": null,
   "metadata": {
    "_cell_guid": "8b4f7d23-b289-4cf2-aae0-97bf5a8b5ce7",
    "_uuid": "3947f2ffff46c2480612e0cc52b3841c9c3bc4c5"
   },
   "outputs": [],
   "source": [
    "params = np.exp(result.params)\n",
    "conf = np.exp(result.conf_int())\n",
    "conf['OR'] = params\n",
    "pvalue=round(result.pvalues,3)\n",
    "conf['pvalue']=pvalue\n",
    "conf.columns = ['CI 95%(2.5%)', 'CI 95%(97.5%)', 'Odds Ratio','pvalue']\n",
    "print ((conf))\n"
   ]
  },
  {
   "cell_type": "markdown",
   "metadata": {
    "_cell_guid": "1ee7bdcf-3691-4764-9a59-a372f2f2f5e0",
    "_uuid": "649a5aa6585b0195d479afeb301969ec2be6c9e4"
   },
   "source": [
    " - **This fitted model shows that, holding all other features constant, the odds of getting diagnosed with heart disease for males (sex_male = 1)over that of  females (sex_male = 0) is exp(0.5815) = 1.788687. In terms of percent change, we can say that the odds for males are 78.8% higher than the odds for females.**\n",
    "<br>\n",
    "<br>\n",
    "\n",
    " - **The coefficient for age says that, holding all others constant, we will see 7% increase in the odds of getting diagnosed with CDH for a one year increase in age since exp(0.0655) = 1.067644.**\n",
    "<br>\n",
    "<br>\n",
    " - **Similarly , with every extra cigarette one smokes thers is a 2% increase in the odds of CDH.** \n",
    "<br>\n",
    "<br>\n",
    " - **For Total cholosterol level and glucose level there is no significant change.**\n",
    "<br>\n",
    "<br>\n",
    " - **There is a 1.7% increase in odds for every unit increase in systolic Blood Pressure.**\n"
   ]
  },
  {
   "cell_type": "markdown",
   "metadata": {
    "_cell_guid": "a6a3a722-08a7-48c0-96fa-0144c9013a48",
    "_uuid": "1a9aa9a7484a8a1e402041f3dda067e5e5dbebce",
    "collapsed": true
   },
   "source": [
    "### <font color=CornflowerBlue>Splitting data to train and test split<font>"
   ]
  },
  {
   "cell_type": "code",
   "execution_count": null,
   "metadata": {
    "_cell_guid": "1f21df9a-2ede-495c-a485-a992727663af",
    "_uuid": "8ff55a6b66ba18a19f84efd73104b8d3836247d4"
   },
   "outputs": [],
   "source": [
    "import sklearn\n",
    "new_features=heart_df[['age','Sex_male','cigsPerDay','totChol','sysBP','glucose','TenYearCHD']]\n",
    "x=new_features.iloc[:,:-1]\n",
    "y=new_features.iloc[:,-1]\n",
    "from sklearn.cross_validation import train_test_split\n",
    "x_train,x_test,y_train,y_test=train_test_split(x,y,test_size=.20,random_state=5)"
   ]
  },
  {
   "cell_type": "code",
   "execution_count": null,
   "metadata": {
    "_cell_guid": "6c5e51fd-3e41-4ca6-ba5e-71f36434dcf0",
    "_uuid": "2b9b52e6c72728b4bfff82e6c483f3430d88f6c9"
   },
   "outputs": [],
   "source": [
    "from sklearn.linear_model import LogisticRegression\n",
    "logreg=LogisticRegression()\n",
    "logreg.fit(x_train,y_train)\n",
    "y_pred=logreg.predict(x_test)"
   ]
  },
  {
   "cell_type": "markdown",
   "metadata": {
    "_cell_guid": "ffc0c6b7-4be0-46bd-8984-eb982eba7e79",
    "_uuid": "c8f5c46cf02412b0f6b6ce0d5fdab68f75f8c4ba"
   },
   "source": [
    "## <font color=RoyalBlue>Model Evaluation<font>\n",
    "\n",
    "### <font color=CornflowerBlue>Model accuracy<font>"
   ]
  },
  {
   "cell_type": "code",
   "execution_count": null,
   "metadata": {
    "_cell_guid": "ef135c4f-33c4-41a9-809d-6b352dc0397c",
    "_uuid": "b5deedf9531410f34bb01e717ab90d883233c6e3"
   },
   "outputs": [],
   "source": [
    "sklearn.metrics.accuracy_score(y_test,y_pred)"
   ]
  },
  {
   "cell_type": "markdown",
   "metadata": {
    "_cell_guid": "170ecc2a-080f-4d54-8a91-357f2167f83b",
    "_uuid": "7db798cfbb6b481419ad1086bcbcdb20c8465640"
   },
   "source": [
    "####  <font color=DarkBlue>Accuracy of the model is 0.88<font>"
   ]
  },
  {
   "cell_type": "markdown",
   "metadata": {
    "_cell_guid": "3c44a90d-cbfb-4787-acee-56da3f180f86",
    "_uuid": "7b6090270c785e1b60309025e966cc44c2724dcc"
   },
   "source": [
    "### <font color=CornflowerBlue>Confusion matrix<font>"
   ]
  },
  {
   "cell_type": "code",
   "execution_count": null,
   "metadata": {
    "_cell_guid": "3b57df93-e9b9-4d32-8fe8-8a1afe1d28d9",
    "_uuid": "6dadfc64d1a62b14d472972cd3b5b3595711a5e8"
   },
   "outputs": [],
   "source": [
    "from sklearn.metrics import confusion_matrix\n",
    "cm=confusion_matrix(y_test,y_pred)\n",
    "conf_matrix=pd.DataFrame(data=cm,columns=['Predicted:0','Predicted:1'],index=['Actual:0','Actual:1'])\n",
    "plt.figure(figsize = (8,5))\n",
    "sn.heatmap(conf_matrix, annot=True,fmt='d',cmap=\"YlGnBu\")"
   ]
  },
  {
   "cell_type": "markdown",
   "metadata": {
    "_cell_guid": "abfa561a-b375-4edd-b493-d69c3ff3ee61",
    "_uuid": "6819f4ddb5cc364ae41bce422812137afbee4186"
   },
   "source": [
    "The confusion matrix shows 658+4 = 662 correct predictions and 88+1= 89 incorrect ones.\n",
    "\n",
    "**<font color=DarkBlue>True Positives:**  4<font>\n",
    "\n",
    "**<font color=DarkBlue>True Negatives:**  658<font>\n",
    "\n",
    "**<font color=DarkBlue>False Positives:** 1 (*Type I error*)<font>\n",
    "\n",
    "**<font color=DarkBlue>False Negatives:** 88 ( *Type II error*)<font>"
   ]
  },
  {
   "cell_type": "code",
   "execution_count": null,
   "metadata": {
    "_cell_guid": "838dd1cc-78df-452d-8306-e06e8baa0e6d",
    "_uuid": "7679a3bd16a92619001cf7e349920e39938c4dc0"
   },
   "outputs": [],
   "source": [
    "TN=cm[0,0]\n",
    "TP=cm[1,1]\n",
    "FN=cm[1,0]\n",
    "FP=cm[0,1]\n",
    "sensitivity=TP/float(TP+FN)\n",
    "specificity=TN/float(TN+FP)"
   ]
  },
  {
   "cell_type": "markdown",
   "metadata": {
    "_cell_guid": "32fd2aba-f6ed-41cc-b6e2-676a626411d8",
    "_uuid": "6ad4604c589dd46bb03dba2157dc97f5abf80bc0"
   },
   "source": [
    "### <font color=CornflowerBlue>Model Evaluation - Statistics<font>"
   ]
  },
  {
   "cell_type": "code",
   "execution_count": null,
   "metadata": {
    "_cell_guid": "4b314554-2e62-4b78-8fd2-8a6bbcdc5fd9",
    "_uuid": "7448c4155697b69d089237d133be1c4df4376723"
   },
   "outputs": [],
   "source": [
    "print('The acuuracy of the model = TP+TN/(TP+TN+FP+FN) = ',(TP+TN)/float(TP+TN+FP+FN),'\\n',\n",
    "\n",
    "'The Missclassification = 1-Accuracy = ',1-((TP+TN)/float(TP+TN+FP+FN)),'\\n',\n",
    "\n",
    "'Sensitivity or True Positive Rate = TP/(TP+FN) = ',TP/float(TP+FN),'\\n',\n",
    "\n",
    "'Specificity or True Negative Rate = TN/(TN+FP) = ',TN/float(TN+FP),'\\n',\n",
    "\n",
    "'Positive Predictive value = TP/(TP+FP) = ',TP/float(TP+FP),'\\n',\n",
    "\n",
    "'Negative predictive Value = TN/(TN+FN) = ',TN/float(TN+FN),'\\n',\n",
    "\n",
    "'Positive Likelihood Ratio = Sensitivity/(1-Specificity) = ',sensitivity/(1-specificity),'\\n',\n",
    "\n",
    "'Negative likelihood Ratio = (1-Sensitivity)/Specificity = ',(1-sensitivity)/specificity)\n"
   ]
  },
  {
   "cell_type": "markdown",
   "metadata": {
    "_cell_guid": "161e6ad5-13bb-46ca-9a59-ce88a2572d72",
    "_uuid": "1a21c02ad27ae1f35d8b2c1a7470f1fe3ad99a7c"
   },
   "source": [
    "**From the above statistics it is clear that the model is highly specific than sensitive. The negative values are predicted more accurately than the positives.**"
   ]
  },
  {
   "cell_type": "markdown",
   "metadata": {
    "_cell_guid": "aeec2bcf-038e-4508-9360-001167291fb9",
    "_uuid": "e72515ddce5884528addc2dac6a9ac0f8d972253"
   },
   "source": [
    "### <font color=CornflowerBlue>Predicted probabilities of  0 (No Coronary Heart Disease) and 1 ( Coronary Heart Disease: Yes)  for the test data with a default classification threshold of 0.5<font>\n"
   ]
  },
  {
   "cell_type": "code",
   "execution_count": null,
   "metadata": {
    "_cell_guid": "547030ca-352a-4b31-a8d2-d7df65f6b2e8",
    "_uuid": "fc9b58248a48122bb777ba1d1fb2877ff8c21fa6"
   },
   "outputs": [],
   "source": [
    "y_pred_prob=logreg.predict_proba(x_test)[:,:]\n",
    "y_pred_prob_df=pd.DataFrame(data=y_pred_prob, columns=['Prob of no heart disease (0)','Prob of Heart Disease (1)'])\n",
    "y_pred_prob_df.head()"
   ]
  },
  {
   "cell_type": "markdown",
   "metadata": {
    "_cell_guid": "807ea066-7a56-446a-a969-78c3a4eb6b73",
    "_uuid": "f5c8756dd5a2c10e458225a1235fd1b06c797b2b"
   },
   "source": [
    "### <font color=CornflowerBlue>Lower the threshold<font>"
   ]
  },
  {
   "cell_type": "markdown",
   "metadata": {
    "_cell_guid": "4511ab69-1385-457a-b075-8c68507664bb",
    "_uuid": "48f0ec0e883786057af40fda2444ce87356297ce"
   },
   "source": [
    "Since the model is predicting Heart disease too many type II errors is not advisable. A False Negative ( ignoring the probability of disease when there actualy is one) is more dangerous than a False Positive in this case. Hence inorder to increase the sensitivity,  threshold can be lowered."
   ]
  },
  {
   "cell_type": "code",
   "execution_count": null,
   "metadata": {
    "_cell_guid": "bd96136c-3cc5-4970-9a19-e1e6b77e2475",
    "_uuid": "01d2a43b26d7f9c361dc94677552b9d2046b8f20"
   },
   "outputs": [],
   "source": [
    "from sklearn.preprocessing import binarize\n",
    "for i in range(1,5):\n",
    "    cm2=0\n",
    "    y_pred_prob_yes=logreg.predict_proba(x_test)\n",
    "    y_pred2=binarize(y_pred_prob_yes,i/10)[:,1]\n",
    "    cm2=confusion_matrix(y_test,y_pred2)\n",
    "    print ('With',i/10,'threshold the Confusion Matrix is ','\\n',cm2,'\\n',\n",
    "            'with',cm2[0,0]+cm2[1,1],'correct predictions and',cm2[1,0],'Type II errors( False Negatives)','\\n\\n',\n",
    "          'Sensitivity: ',cm2[1,1]/(float(cm2[1,1]+cm2[1,0])),'Specificity: ',cm2[0,0]/(float(cm2[0,0]+cm2[0,1])),'\\n\\n\\n')\n",
    "    "
   ]
  },
  {
   "cell_type": "markdown",
   "metadata": {
    "_cell_guid": "c9946811-5b8d-41fe-8c70-5d1700a7b4bd",
    "_uuid": "a79b9128e0dbf2716613a75643806de54000af04"
   },
   "source": [
    "### <font color=CornflowerBlue>ROC curve<font>"
   ]
  },
  {
   "cell_type": "code",
   "execution_count": null,
   "metadata": {
    "_cell_guid": "95fd4599-39ff-44fb-9991-b91400eaca96",
    "_uuid": "858fd02b2319730d92e0f0014a7dbb1a223aca23"
   },
   "outputs": [],
   "source": [
    "from sklearn.metrics import roc_curve\n",
    "fpr, tpr, thresholds = roc_curve(y_test, y_pred_prob_yes[:,1])\n",
    "plt.plot(fpr,tpr)\n",
    "plt.xlim([0.0, 1.0])\n",
    "plt.ylim([0.0, 1.0])\n",
    "plt.title('ROC curve for Heart disease classifier')\n",
    "plt.xlabel('False positive rate (1-Specificity)')\n",
    "plt.ylabel('True positive rate (Sensitivity)')\n",
    "plt.grid(True)"
   ]
  },
  {
   "cell_type": "markdown",
   "metadata": {
    "_cell_guid": "a14bc45c-f000-4803-983e-934f331ae0f6",
    "_uuid": "2f936ed959075964b25fcb753548ea00f3fe0af2"
   },
   "source": [
    "A common way to visualize the trade-offs of different thresholds is by using an ROC curve, a plot of the true positive rate (# true positives/ total # positives) versus the false positive rate (# false positives /\n",
    "total # negatives) for all possible choices of thresholds. A model with good classification accuracy should have significantly more true positives than false positives at all thresholds. \n",
    "\n",
    "The optimum position for roc curve is towards the top left corner where the specificity and sensitivity are at optimum levels"
   ]
  },
  {
   "cell_type": "markdown",
   "metadata": {
    "_cell_guid": "8b48402f-20b5-4408-ae09-79576c61bc85",
    "_uuid": "25342d42365c10d4b8c397324c09bfd658776462"
   },
   "source": [
    "### <font color=CornflowerBlue>Area Under The Curve (AUC)<font>\n",
    "\n",
    "The area under the ROC curve quantifies model classification accuracy; the higher the area, the greater the disparity between true and false positives, and the stronger the model in classifying members of the training dataset. An area of 0.5 corresponds to a model that performs no better than random classification and a good classifier stays as far away from that  as possible. An area of 1 is ideal. The closer the AUC to 1 the better."
   ]
  },
  {
   "cell_type": "code",
   "execution_count": null,
   "metadata": {
    "_cell_guid": "719c8a37-8cf1-44ed-b312-d4d7ef6414ff",
    "_uuid": "62755c5a95c67810df506bf3972ecf319a86bf98"
   },
   "outputs": [],
   "source": [
    "sklearn.metrics.roc_auc_score(y_test,y_pred_prob_yes[:,1])"
   ]
  },
  {
   "cell_type": "markdown",
   "metadata": {
    "_cell_guid": "bda76cab-79ca-4f3f-a864-19443787a3e4",
    "_uuid": "c2e31f1f363af6d137ebf7df90d62b9cfae6f136"
   },
   "source": [
    "\n",
    "## <font color=RoyalBlue> Conclusions:</font>\n",
    "\n",
    "<div class=\"alert alert-info\">\n",
    "\n",
    "\n",
    "\n",
    "<div class=\"panel-body\">\n",
    "\n",
    "\n",
    " - **<font color=darkblue>All attributes selected after the elimination process show Pvalues lower than 5% and thereby suggesting significant role in the Heart disease prediction.</font>** \n",
    "<br>\n",
    "<br>\n",
    " - **<font color=darkblue>Men seem to be more susceptible to heart disease than women.Increase in Age,number of cigarettes smoked per day and systolic Blood Pressure also show increasing odds of having heart disease.</font>**\n",
    " <br>\n",
    " <br>\n",
    "\n",
    " - **<font color=darkblue>Total cholesterol shows no significant change in the odds of CHD. This could be due to the presence of 'good cholesterol(HDL) in the total cholesterol reading.Glucose too causes a very negligible change in odds (0.2%)</font>**\n",
    " <br>\n",
    " <br>\n",
    "\n",
    " - **<font color=darkblue>The model predicted with 0.88 accuracy. The model is more specific than sensitive.</font>**\n",
    " <br>\n",
    " <br>\n",
    "\n",
    " - **<font color=darkblue>The Area under the ROC curve is 73.5 which is somewhat satisfactory.</font> **\n",
    " <br>\n",
    " <br>\n",
    "\n",
    " - ** <font color=darkblue>Overall model could be improved with more data.</font>**\n",
    "\n",
    "</div>\n",
    "</div>"
   ]
  },
  {
   "cell_type": "markdown",
   "metadata": {
    "_cell_guid": "a3e3d46a-61a6-4b14-a518-cefa27b44b5a",
    "_uuid": "5e0b2ae2206ad6758fc87492ea41999afb4887d0"
   },
   "source": [
    "## <font color=RoyalBlue>Appendix\n",
    "\n",
    "http://www.who.int/mediacentre/factsheets/fs317/en/\n",
    "\n",
    "#### Data Source References\n",
    "\n",
    "https://www.kaggle.com/amanajmera1/framingham-heart-study-dataset/data\n",
    "\n"
   ]
  },
  {
   "cell_type": "code",
   "execution_count": null,
   "metadata": {
    "_cell_guid": "fabe801a-8a3b-4d3d-9603-cef3bd4df1e5",
    "_uuid": "4627973cf680fa1b9d98e700973fac9eb8aac6ac"
   },
   "outputs": [],
   "source": []
  }
 ],
 "metadata": {
  "kernelspec": {
   "display_name": "Python 3",
   "language": "python",
   "name": "python3"
  },
  "language_info": {
   "codemirror_mode": {
    "name": "ipython",
    "version": 3
   },
   "file_extension": ".py",
   "mimetype": "text/x-python",
   "name": "python",
   "nbconvert_exporter": "python",
   "pygments_lexer": "ipython3",
   "version": "3.8.3"
  }
 },
 "nbformat": 4,
 "nbformat_minor": 1
}
